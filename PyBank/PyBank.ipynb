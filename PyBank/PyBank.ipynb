{
 "cells": [
  {
   "cell_type": "markdown",
   "id": "72223cbc",
   "metadata": {},
   "source": [
    "# Python Challenge - PyBank Profit/Loss Analysis"
   ]
  },
  {
   "cell_type": "markdown",
   "id": "ae4a106e",
   "metadata": {},
   "source": [
    "## Problem Statement\n",
    "\n",
    "In this Challenge, you are tasked with creating a Python script to analyze the financial records of your company. You will be given a financial dataset called budget_data.csv. The dataset is composed of two columns: \"Date\" and \"Profit/Losses\".\n",
    "\n",
    "Your task is to create a Python script that analyzes the records to calculate each of the following values:\n",
    "\n",
    "The total number of months included in the dataset\n",
    "\n",
    "The net total amount of \"Profit/Losses\" over the entire period\n",
    "\n",
    "The changes in \"Profit/Losses\" over the entire period, and then the average of those changes\n",
    "\n",
    "The greatest increase in profits (date and amount) over the entire period\n",
    "\n",
    "The greatest decrease in profits (date and amount) over the entire period\n",
    "\n",
    "Your analysis should align with the following results:"
   ]
  },
  {
   "cell_type": "markdown",
   "id": "b307b245",
   "metadata": {},
   "source": [
    "## Solution"
   ]
  },
  {
   "cell_type": "code",
   "execution_count": 38,
   "id": "3617bdac",
   "metadata": {},
   "outputs": [
    {
     "name": "stdout",
     "output_type": "stream",
     "text": [
      "Financial Analysis \n",
      "---------------------------------- \n",
      "Total Months: 86\n",
      "Total : $22564198\n",
      "Average Changes : $ -8311.11\n",
      "Greatest Increase in Profits : Aug-16  ($ 1862002)\n",
      "Greatest Decrease in Profits : Feb-14  ($ -1825558)\n",
      "\n"
     ]
    }
   ],
   "source": [
    "import os\n",
    "import csv\n",
    "\n",
    "Budget_data_path = os.path.join('.','Resources','budget_data.csv') # files to load\n",
    "file_to_output = os.path.join('.','budget_analysis.txt') # files to putput\n",
    "\n",
    "date_value = []\n",
    "pl = []\n",
    "changes = []\n",
    "with open(Budget_data_path,'r') as csv_file:\n",
    "    Budget_reader = csv.reader(csv_file, delimiter=\",\")\n",
    "    header = next(Budget_reader)\n",
    "    #print(header)\n",
    "    \n",
    "    for row in Budget_reader:\n",
    "     \n",
    "        date_value.append(row[0])     # adding date column to a list \n",
    "        pl.append(int(row[1]))        # adding profit/loss column to a list\n",
    "        if len(pl) > 1 : changes.append(int(row[1]) - pl[-2]) # to find changes in profit/loss and condition to check the list has atleast one value \n",
    "        \n",
    "\n",
    "# Calculations\n",
    "\n",
    "Total_Months = len(date_value)    # Total months , using len function\n",
    "Total = sum(pl) # Total\n",
    "high_profit = max(changes)\n",
    "high_loss = min(changes)\n",
    "high_profit_index = changes.index(high_profit)\n",
    "high_loss_index = changes.index(high_loss)\n",
    "\n",
    "output = (f'Financial Analysis \\n' f'---------------------------------- \\n'\n",
    "         f'Total Months: {Total_Months}\\n' f'Total : ${Total}\\n' \n",
    "         f'Average Changes : $ {round(sum(changes)/len(changes),2)}\\n'\n",
    "         f'Greatest Increase in Profits : {date_value[high_profit_index+1]}  ($ {high_profit})\\n'\n",
    "         f'Greatest Decrease in Profits : {date_value[high_loss_index+1]}  ($ {high_loss})\\n')\n",
    "print(output)\n",
    "\n",
    "with open(file_to_output, 'w') as txt_file:\n",
    "    txt_file.write(output)\n",
    "        "
   ]
  }
 ],
 "metadata": {
  "kernelspec": {
   "display_name": "Python 3 (ipykernel)",
   "language": "python",
   "name": "python3"
  },
  "language_info": {
   "codemirror_mode": {
    "name": "ipython",
    "version": 3
   },
   "file_extension": ".py",
   "mimetype": "text/x-python",
   "name": "python",
   "nbconvert_exporter": "python",
   "pygments_lexer": "ipython3",
   "version": "3.10.12"
  }
 },
 "nbformat": 4,
 "nbformat_minor": 5
}
