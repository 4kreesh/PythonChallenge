{
 "cells": [
  {
   "cell_type": "markdown",
   "id": "1c90612f",
   "metadata": {},
   "source": [
    "# Python Challenge - PyPoll Election Data Analysis"
   ]
  },
  {
   "cell_type": "markdown",
   "id": "9c4f27bc",
   "metadata": {},
   "source": [
    "## Problem Statement\n",
    "\n",
    "You will be given a set of poll data called election_data.csv. The dataset is composed of three columns: \"Voter ID\", \"County\", and \"Candidate\". Your task is to create a Python script that analyzes the votes and calculates each of the following values:\n",
    "\n",
    "The total number of votes cast\n",
    "\n",
    "A complete list of candidates who received votes\n",
    "\n",
    "The percentage of votes each candidate won\n",
    "\n",
    "The total number of votes each candidate won\n",
    "\n",
    "The winner of the election based on popular vote\n"
   ]
  },
  {
   "cell_type": "markdown",
   "id": "7043a937",
   "metadata": {},
   "source": [
    "## Solution"
   ]
  },
  {
   "cell_type": "code",
   "execution_count": 149,
   "id": "c5b545cf",
   "metadata": {},
   "outputs": [
    {
     "name": "stdout",
     "output_type": "stream",
     "text": [
      "Election Results\n",
      "--------------------------------\n",
      "Total Votes : 369711\n",
      "--------------------------------\n",
      "\n",
      "Charles Casper Stockham : 23.049% (85213)\n",
      "\n",
      "Diana DeGette : 73.812% (272892)\n",
      "\n",
      "Raymon Anthony Doane : 3.139% (11606)\n",
      "\n",
      "--------------------------------\n",
      "Winner : Diana DeGette\n",
      "--------------------------------\n",
      "\n"
     ]
    }
   ],
   "source": [
    "import os\n",
    "import csv\n",
    "\n",
    "csv_path = os.path.join('.','Resources','election_data.csv') # file path to load dataset\n",
    "file_to_output = os.path.join('.','Election_analysis.txt') # file path to output file to export results\n",
    "\n",
    "t_votes =[]  \n",
    "x ={} # dictionary to store the county and candidate value\n",
    "c=[] # list to calculate percentage of votes each candidate won\n",
    "\n",
    "with open(csv_path,'r') as csvfile:\n",
    "    csv_reader = csv.reader(csvfile, delimiter =\",\")\n",
    "    header = next(csv_reader)\n",
    "    #print(header)\n",
    "    \n",
    "    for row in csv_reader:\n",
    "        t_votes.append(row[2]) \n",
    "        if row[2] in x.keys(): # check whether the key exists already in the dictionary\n",
    "            x[row[2]]=x[row[2]]+1 # increment the Values in the dictionary\n",
    "        else:\n",
    "            x[row[2]] = 1\n",
    "            \n",
    "            \n",
    "total_votes = len(t_votes) \n",
    "    \n",
    "with open(file_to_output,'w') as txt_file:\n",
    "    output = (f'Election Results\\n'\n",
    "             f'--------------------------------\\n'\n",
    "             f'Total Votes : {total_votes}\\n'\n",
    "              f'--------------------------------\\n'\n",
    "              )\n",
    "    print(output)\n",
    "    txt_file.write(output)\n",
    "    for key, value in x.items(): # reading through dictionary for percentage calculation\n",
    "        c = round((value/total_votes * 100),3)\n",
    "        voter_output = (f'{key} : {c}% ({value})\\n')\n",
    "        print(voter_output)\n",
    "        txt_file.write(voter_output)\n",
    "   \n",
    "    winner = max(x, key=x.get) # finding the winning candidate with maximum votes\n",
    "    result = (f'--------------------------------\\n'\n",
    "             f'Winner : {winner}\\n'\n",
    "             f'--------------------------------\\n')\n",
    "    print(result)\n",
    "    txt_file.write(result)\n",
    "    \n",
    "        "
   ]
  },
  {
   "cell_type": "code",
   "execution_count": null,
   "id": "5a5905a8",
   "metadata": {},
   "outputs": [],
   "source": []
  }
 ],
 "metadata": {
  "kernelspec": {
   "display_name": "Python 3 (ipykernel)",
   "language": "python",
   "name": "python3"
  },
  "language_info": {
   "codemirror_mode": {
    "name": "ipython",
    "version": 3
   },
   "file_extension": ".py",
   "mimetype": "text/x-python",
   "name": "python",
   "nbconvert_exporter": "python",
   "pygments_lexer": "ipython3",
   "version": "3.10.12"
  }
 },
 "nbformat": 4,
 "nbformat_minor": 5
}
